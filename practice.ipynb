{
 "cells": [
  {
   "cell_type": "markdown",
   "id": "6cb95bcf",
   "metadata": {},
   "source": [
    "### 🚀 Java & DSA Learning Journey  \n",
    "\n",
    "Welcome to Kalem Code Space **Java + Data Structures and Algorithms (DSA)** learning journey!  \n",
    "This repository is my **public learning log** — where I document everything I’m learning daily, from the **basics of Java programming** to mastering **DSA for FAANG-level interviews**.  \n",
    "\n",
    "My goal is not only to prepare for interviews but also to **build a strong logical mindset** so I can create my own **startup, products, or automation-based services** using solid programming fundamentals.  \n",
    "\n",
    "---\n",
    "\n",
    "### 🎯 Goals  \n",
    "\n",
    "- Build a strong foundation in **Core Java**.  \n",
    "- Learn and master **Data Structures & Algorithms** step by step.  \n",
    "- Improve **problem-solving** and **logical thinking**.  \n",
    "- Prepare for **FAANG & top-tech interviews**.  \n",
    "- Share my journey publicly to **help and collaborate** with others.  \n",
    "\n",
    "---\n",
    "\n",
    "### 🧭 Learning Roadmap  \n",
    "\n",
    "| Phase | Topic | Key Concepts | Status |\n",
    "|--------|--------|---------------|--------|\n",
    "| 1 | Java Basics | Syntax, Variables, Data Types, Input/Output | ✅ Completed |\n",
    "| 2 | Control Statements | If-Else, Switch, Loops (for, while, do-while) | 🔄 In Progress |\n",
    "| 3 | Functions & Methods | Method Overloading, Return Types | ⏳ Pending |\n",
    "| 4 | Arrays & Strings | Traversal, Sorting, Searching | ⏳ Pending |\n",
    "| 5 | Object-Oriented Programming | Classes, Objects, Inheritance, Polymorphism | ⏳ Pending |\n",
    "| 6 | DSA Foundations | Recursion, Time Complexity, Big-O | ⏳ Pending |\n",
    "| 7 | Core Data Structures | Linked List, Stack, Queue, Trees, Graphs | ⏳ Pending |\n",
    "| 8 | Algorithms | Sorting, Searching, DP, Backtracking | ⏳ Pending |"
   ]
  },
  {
   "cell_type": "code",
   "execution_count": null,
   "id": "7e7a7d77",
   "metadata": {},
   "outputs": [],
   "source": [
    "for i in range(1, 11):\n",
    "    print('table : ', i * 5)"
   ]
  },
  {
   "cell_type": "code",
   "execution_count": 26,
   "id": "c466cd13",
   "metadata": {},
   "outputs": [
    {
     "name": "stdout",
     "output_type": "stream",
     "text": [
      "factorial :  120\n"
     ]
    }
   ],
   "source": [
    "n = 5\n",
    "fact = 1\n",
    "for i in range(1, (n+1)):\n",
    "    fact = fact * i\n",
    "    \n",
    "print('factorial : ', fact)"
   ]
  }
 ],
 "metadata": {
  "kernelspec": {
   "display_name": "Python 3",
   "language": "python",
   "name": "python3"
  },
  "language_info": {
   "codemirror_mode": {
    "name": "ipython",
    "version": 3
   },
   "file_extension": ".py",
   "mimetype": "text/x-python",
   "name": "python",
   "nbconvert_exporter": "python",
   "pygments_lexer": "ipython3",
   "version": "3.12.9"
  }
 },
 "nbformat": 4,
 "nbformat_minor": 5
}
